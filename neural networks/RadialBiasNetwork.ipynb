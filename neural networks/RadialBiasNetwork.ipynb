{
 "cells": [
  {
   "cell_type": "code",
   "execution_count": 1,
   "metadata": {
    "collapsed": false
   },
   "outputs": [],
   "source": [
    "import numpy as np\n",
    "import pandas as pd\n",
    "import kmeans "
   ]
  },
  {
   "cell_type": "code",
   "execution_count": 2,
   "metadata": {
    "collapsed": true
   },
   "outputs": [],
   "source": [
    "#Activation function for RBF\n",
    "def g(x,w,sigma):\n",
    "    return np.exp(-np.sum((x-w)**2,axis=1)/(2*sigma**2))"
   ]
  },
  {
   "cell_type": "code",
   "execution_count": 3,
   "metadata": {
    "collapsed": true
   },
   "outputs": [],
   "source": [
    "#creating a class called RBF\n",
    "class RBF:\n",
    "    #initialising the RBF\n",
    "    def __init__(self,inodes,onodes):\n",
    "        self.inodes=inodes\n",
    "        self.onodes=onodes\n",
    "    #output from the the RBF\n",
    "    def train(self,data,iter_kmean,sigma):\n",
    "        d=dict()\n",
    "        weights=kmeans.kmeans(data.ix[:,:self.inodes],self.onodes,iter_kmean)['clustermean']\n",
    "        df = pd.DataFrame()\n",
    "        for i in range(len(weights)):\n",
    "            df[i]=g(data.ix[:,:self.inodes],weights[i],sigma)\n",
    "        d['data']=df\n",
    "        d['weights']=weights\n",
    "        return d"
   ]
  },
  {
   "cell_type": "code",
   "execution_count": 10,
   "metadata": {
    "collapsed": false
   },
   "outputs": [],
   "source": [
    "#creating a class called perceptron \n",
    "class perceptron:\n",
    "    #initialising the perceptron\n",
    "    def __init__(self,inodes,onodes,bias=0):#inodes-no of input nodes,onodes-no of outputs nodes\n",
    "        self.inodes=inodes\n",
    "        self.onodes=onodes\n",
    "        self.bias=bias\n",
    "        if bias==0:\n",
    "            self.weights=np.random.randn(onodes,inodes)\n",
    "        else:\n",
    "            self.weights=np.random.randn(onodes,inodes+1)\n",
    "    #training the perceptron\n",
    "    def train(self,data,eta,iteration):\n",
    "        for i in range(iteration):\n",
    "            for i in range(len(data.index)):\n",
    "                inputs=np.array(data.ix[i][:self.inodes]).reshape((self.inodes,1))\n",
    "                if self.bias!=0:\n",
    "                    inputs=np.insert(inputs, self.inodes,self.bias,axis=0)\n",
    "                else:\n",
    "                    inputs=inputs\n",
    "                targets=np.array(data.ix[i,self.inodes:]).reshape((self.onodes,1))\n",
    "                outputs=np.dot(self.weights,inputs)\n",
    "                outputs=np.where(outputs>0,1,0)\n",
    "                error=targets-outputs\n",
    "                self.weights += eta*(np.dot(error,np.transpose(inputs)))\n",
    "        return self.weights\n",
    "    #testing the perceptron\n",
    "    def test(self,data):\n",
    "        outputs=list()\n",
    "        for i in range(len(data.index)):\n",
    "                inputs=np.array(data.ix[i][:self.inodes]).reshape((self.inodes,1))\n",
    "                if self.bias!=0:\n",
    "                    inputs=np.insert(inputs, self.inodes,self.bias,axis=0)\n",
    "                else:\n",
    "                    inputs=inputs\n",
    "                x=np.dot(self.weights,inputs)\n",
    "                x=np.where(x>0,1,0)\n",
    "                outputs.append(x)\n",
    "        return outputs"
   ]
  },
  {
   "cell_type": "code",
   "execution_count": 3,
   "metadata": {
    "collapsed": false
   },
   "outputs": [
    {
     "data": {
      "text/html": [
       "<div>\n",
       "<table border=\"1\" class=\"dataframe\">\n",
       "  <thead>\n",
       "    <tr style=\"text-align: right;\">\n",
       "      <th></th>\n",
       "      <th>input1</th>\n",
       "      <th>input2</th>\n",
       "      <th>target</th>\n",
       "    </tr>\n",
       "  </thead>\n",
       "  <tbody>\n",
       "    <tr>\n",
       "      <th>0</th>\n",
       "      <td>0</td>\n",
       "      <td>0</td>\n",
       "      <td>0</td>\n",
       "    </tr>\n",
       "    <tr>\n",
       "      <th>1</th>\n",
       "      <td>0</td>\n",
       "      <td>1</td>\n",
       "      <td>1</td>\n",
       "    </tr>\n",
       "    <tr>\n",
       "      <th>2</th>\n",
       "      <td>1</td>\n",
       "      <td>0</td>\n",
       "      <td>1</td>\n",
       "    </tr>\n",
       "    <tr>\n",
       "      <th>3</th>\n",
       "      <td>1</td>\n",
       "      <td>1</td>\n",
       "      <td>0</td>\n",
       "    </tr>\n",
       "  </tbody>\n",
       "</table>\n",
       "</div>"
      ],
      "text/plain": [
       "   input1  input2  target\n",
       "0       0       0       0\n",
       "1       0       1       1\n",
       "2       1       0       1\n",
       "3       1       1       0"
      ]
     },
     "execution_count": 3,
     "metadata": {},
     "output_type": "execute_result"
    }
   ],
   "source": [
    "##creating a data for XOR gate\n",
    "xor_gate=pd.DataFrame(np.array([[0,0,0],[0,1,1],[1,0,1],[1,1,0]]),columns=['input1','input2','target'])\n",
    "xor_gate"
   ]
  },
  {
   "cell_type": "code",
   "execution_count": 198,
   "metadata": {
    "collapsed": true
   },
   "outputs": [],
   "source": [
    "p=RBF(2,4)\n",
    "d=p.train(xor_gate,10,0.35)"
   ]
  },
  {
   "cell_type": "code",
   "execution_count": 199,
   "metadata": {
    "collapsed": false
   },
   "outputs": [
    {
     "data": {
      "text/plain": [
       "[array([ 0.,  0.]), array([ 1.,  1.]), array([ 0.,  1.]), array([ 1.,  0.])]"
      ]
     },
     "execution_count": 199,
     "metadata": {},
     "output_type": "execute_result"
    }
   ],
   "source": [
    "d['weights']"
   ]
  },
  {
   "cell_type": "code",
   "execution_count": 200,
   "metadata": {
    "collapsed": false
   },
   "outputs": [],
   "source": [
    "final=d['data']"
   ]
  },
  {
   "cell_type": "code",
   "execution_count": 201,
   "metadata": {
    "collapsed": false
   },
   "outputs": [
    {
     "data": {
      "text/html": [
       "<div>\n",
       "<table border=\"1\" class=\"dataframe\">\n",
       "  <thead>\n",
       "    <tr style=\"text-align: right;\">\n",
       "      <th></th>\n",
       "      <th>0</th>\n",
       "      <th>1</th>\n",
       "      <th>2</th>\n",
       "      <th>3</th>\n",
       "      <th>target</th>\n",
       "    </tr>\n",
       "  </thead>\n",
       "  <tbody>\n",
       "    <tr>\n",
       "      <th>0</th>\n",
       "      <td>1.000000</td>\n",
       "      <td>0.000285</td>\n",
       "      <td>0.016880</td>\n",
       "      <td>0.016880</td>\n",
       "      <td>0</td>\n",
       "    </tr>\n",
       "    <tr>\n",
       "      <th>1</th>\n",
       "      <td>0.016880</td>\n",
       "      <td>0.016880</td>\n",
       "      <td>1.000000</td>\n",
       "      <td>0.000285</td>\n",
       "      <td>1</td>\n",
       "    </tr>\n",
       "    <tr>\n",
       "      <th>2</th>\n",
       "      <td>0.016880</td>\n",
       "      <td>0.016880</td>\n",
       "      <td>0.000285</td>\n",
       "      <td>1.000000</td>\n",
       "      <td>1</td>\n",
       "    </tr>\n",
       "    <tr>\n",
       "      <th>3</th>\n",
       "      <td>0.000285</td>\n",
       "      <td>1.000000</td>\n",
       "      <td>0.016880</td>\n",
       "      <td>0.016880</td>\n",
       "      <td>0</td>\n",
       "    </tr>\n",
       "  </tbody>\n",
       "</table>\n",
       "</div>"
      ],
      "text/plain": [
       "          0         1         2         3  target\n",
       "0  1.000000  0.000285  0.016880  0.016880       0\n",
       "1  0.016880  0.016880  1.000000  0.000285       1\n",
       "2  0.016880  0.016880  0.000285  1.000000       1\n",
       "3  0.000285  1.000000  0.016880  0.016880       0"
      ]
     },
     "execution_count": 201,
     "metadata": {},
     "output_type": "execute_result"
    }
   ],
   "source": [
    "final['target']=xor_gate['target']\n",
    "final"
   ]
  },
  {
   "cell_type": "code",
   "execution_count": 208,
   "metadata": {
    "collapsed": false
   },
   "outputs": [
    {
     "data": {
      "text/plain": [
       "[array([[0]]), array([[1]]), array([[1]]), array([[0]])]"
      ]
     },
     "execution_count": 208,
     "metadata": {},
     "output_type": "execute_result"
    }
   ],
   "source": [
    "q=perceptron(4,1,0)\n",
    "q.train(final,0.25,15)\n",
    "l=q.test(final)\n",
    "l"
   ]
  },
  {
   "cell_type": "code",
   "execution_count": null,
   "metadata": {
    "collapsed": true
   },
   "outputs": [],
   "source": []
  }
 ],
 "metadata": {
  "kernelspec": {
   "display_name": "Python 3",
   "language": "python",
   "name": "python3"
  },
  "language_info": {
   "codemirror_mode": {
    "name": "ipython",
    "version": 3
   },
   "file_extension": ".py",
   "mimetype": "text/x-python",
   "name": "python",
   "nbconvert_exporter": "python",
   "pygments_lexer": "ipython3",
   "version": "3.6.0"
  }
 },
 "nbformat": 4,
 "nbformat_minor": 2
}
