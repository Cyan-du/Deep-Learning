{
 "cells": [
  {
   "cell_type": "markdown",
   "metadata": {},
   "source": [
    "# Neural Network using Keras"
   ]
  },
  {
   "cell_type": "markdown",
   "metadata": {},
   "source": [
    "### Importing necessary modules"
   ]
  },
  {
   "cell_type": "code",
   "execution_count": 9,
   "metadata": {},
   "outputs": [],
   "source": [
    "from keras.models import Sequential\n",
    "from keras.layers import Dense\n",
    "from keras.layers import Dropout\n",
    "import numpy\n",
    "# fix random seed for reproducibility\n",
    "numpy.random.seed(7)"
   ]
  },
  {
   "cell_type": "markdown",
   "metadata": {},
   "source": [
    "### Loading the data"
   ]
  },
  {
   "cell_type": "code",
   "execution_count": 2,
   "metadata": {},
   "outputs": [],
   "source": [
    "# load pima indians dataset\n",
    "dataset = numpy.loadtxt(\"pima-indians-diabetes.csv\", delimiter=\",\")\n",
    "# split into input (X) and output (Y) variables\n",
    "X = dataset[:,0:8]\n",
    "Y = dataset[:,8]"
   ]
  },
  {
   "cell_type": "code",
   "execution_count": 3,
   "metadata": {},
   "outputs": [
    {
     "data": {
      "text/plain": [
       "array([[  6.   , 148.   ,  72.   , ...,  33.6  ,   0.627,  50.   ],\n",
       "       [  1.   ,  85.   ,  66.   , ...,  26.6  ,   0.351,  31.   ],\n",
       "       [  8.   , 183.   ,  64.   , ...,  23.3  ,   0.672,  32.   ],\n",
       "       ...,\n",
       "       [  5.   , 121.   ,  72.   , ...,  26.2  ,   0.245,  30.   ],\n",
       "       [  1.   , 126.   ,  60.   , ...,  30.1  ,   0.349,  47.   ],\n",
       "       [  1.   ,  93.   ,  70.   , ...,  30.4  ,   0.315,  23.   ]])"
      ]
     },
     "execution_count": 3,
     "metadata": {},
     "output_type": "execute_result"
    }
   ],
   "source": [
    "X"
   ]
  },
  {
   "cell_type": "markdown",
   "metadata": {},
   "source": [
    "### Define Model"
   ]
  },
  {
   "cell_type": "markdown",
   "metadata": {},
   "source": [
    "Models in Keras are defined as a sequence of layers.\n",
    "\n",
    "We create a Sequential model and add layers one at a time until we are happy with our network topology.\n",
    "\n",
    "The first thing to get right is to ensure the input layer has the right number of inputs. This can be specified when creating the first layer with the input_dim argument and setting it to 8 for the 8 input variables.\n",
    "\n",
    "How do we know the number of layers and their types?\n",
    "\n",
    "This is a very hard question. There are heuristics that we can use and often the best network structure is found through a process of trial and error experimentation. Generally, you need a network large enough to capture the structure of the problem if that helps at all.\n",
    "\n",
    "In this example, we will use a fully-connected network structure with three layers.\n",
    "\n",
    "Fully connected layers are defined using the Dense class. We can specify the number of neurons in the layer as the first argument, the initialization method as the second argument as init and specify the activation function using the activation argument.\n",
    "\n",
    "In this case, we initialize the network weights to a small random number generated from a uniform distribution (‘uniform‘), in this case between 0 and 0.05 because that is the default uniform weight initialization in Keras. Another traditional alternative would be ‘normal’ for small random numbers generated from a Gaussian distribution.\n",
    "\n",
    "We will use the rectifier (‘relu‘) activation function on the first two layers and the sigmoid function in the output layer. It used to be the case that sigmoid and tanh activation functions were preferred for all layers. These days, better performance is achieved using the rectifier activation function. We use a sigmoid on the output layer to ensure our network output is between 0 and 1 and easy to map to either a probability of class 1 or snap to a hard classification of either class with a default threshold of 0.5.\n",
    "\n",
    "We can piece it all together by adding each layer. The first layer has 12 neurons and expects 8 input variables. The second hidden layer has 8 neurons and finally, the output layer has 1 neuron to predict the class (onset of diabetes or not)."
   ]
  },
  {
   "cell_type": "code",
   "execution_count": 4,
   "metadata": {},
   "outputs": [],
   "source": [
    "# create model using Xavier initialisation and dropout on hidden layers\n",
    "model1 = Sequential()\n",
    "model1.add(Dense(12, input_dim=8,kernel_initializer='glorot_normal',activation='relu'))#using xavier initialisation\n",
    "model1.add(Dropout(0.2))\n",
    "model1.add(Dense(8, activation='relu'))\n",
    "model1.add(Dropout(0.2))\n",
    "model1.add(Dense(1, activation='sigmoid'))"
   ]
  },
  {
   "cell_type": "code",
   "execution_count": 5,
   "metadata": {},
   "outputs": [],
   "source": [
    "# create model using Xavier initialisation and dropout on input layer\n",
    "model2 = Sequential()\n",
    "model2.add(Dropout(0.2, input_shape=(8,)))\n",
    "model2.add(Dense(12,activation='relu'))\n",
    "model2.add(Dense(8, activation='relu'))\n",
    "model2.add(Dense(1, activation='sigmoid'))"
   ]
  },
  {
   "cell_type": "markdown",
   "metadata": {},
   "source": [
    "### Compile Model"
   ]
  },
  {
   "cell_type": "markdown",
   "metadata": {},
   "source": [
    "Now that the model is defined, we can compile it.\n",
    "\n",
    "Compiling the model uses the efficient numerical libraries under the covers (the so-called backend) such as Theano or TensorFlow. The backend automatically chooses the best way to represent the network for training and making predictions to run on your hardware, such as CPU or GPU or even distributed.\n",
    "\n",
    "When compiling, we must specify some additional properties required when training the network. Remember training a network means finding the best set of weights to make predictions for this problem.\n",
    "\n",
    "We must specify the loss function to use to evaluate a set of weights, the optimizer used to search through different weights for the network and any optional metrics we would like to collect and report during training.\n",
    "\n",
    "In this case, we will use logarithmic loss, which for a binary classification problem is defined in Keras as “binary_crossentropy“. We will also use the efficient gradient descent algorithm “adam” for no other reason that it is an efficient default. Learn more about the Adam optimization algorithm in the paper “Adam: A Method for Stochastic Optimization“.\n",
    "\n",
    "Finally, because it is a classification problem, we will collect and report the classification accuracy as the metric."
   ]
  },
  {
   "cell_type": "code",
   "execution_count": 6,
   "metadata": {},
   "outputs": [],
   "source": [
    "# Compile model\n",
    "model2.compile(loss='binary_crossentropy', optimizer='adam', metrics=['accuracy'])"
   ]
  },
  {
   "cell_type": "markdown",
   "metadata": {},
   "source": [
    "### Fit Model"
   ]
  },
  {
   "cell_type": "markdown",
   "metadata": {},
   "source": [
    "We have defined our model and compiled it ready for efficient computation.\n",
    "\n",
    "Now it is time to execute the model on some data.\n",
    "\n",
    "We can train or fit our model on our loaded data by calling the fit() function on the model.\n",
    "\n",
    "The training process will run for a fixed number of iterations through the dataset called epochs, that we must specify using the nepochs argument. We can also set the number of instances that are evaluated before a weight update in the network is performed, called the batch size and set using the batch_size argument.\n",
    "\n",
    "For this problem, we will run for a small number of iterations (150) and use a relatively small batch size of 10. Again, these can be chosen experimentally by trial and error."
   ]
  },
  {
   "cell_type": "code",
   "execution_count": 7,
   "metadata": {},
   "outputs": [
    {
     "name": "stdout",
     "output_type": "stream",
     "text": [
      "Epoch 1/150\n",
      "768/768 [==============================] - 0s 403us/step - loss: 5.4267 - acc: 0.6016\n",
      "Epoch 2/150\n",
      "768/768 [==============================] - 0s 133us/step - loss: 5.1364 - acc: 0.6068\n",
      "Epoch 3/150\n",
      "768/768 [==============================] - 0s 129us/step - loss: 4.9104 - acc: 0.6211\n",
      "Epoch 4/150\n",
      "768/768 [==============================] - 0s 152us/step - loss: 4.7849 - acc: 0.6276\n",
      "Epoch 5/150\n",
      "768/768 [==============================] - 0s 157us/step - loss: 4.5114 - acc: 0.6354\n",
      "Epoch 6/150\n",
      "768/768 [==============================] - 0s 123us/step - loss: 4.3514 - acc: 0.6445\n",
      "Epoch 7/150\n",
      "768/768 [==============================] - 0s 155us/step - loss: 3.8090 - acc: 0.6302\n",
      "Epoch 8/150\n",
      "768/768 [==============================] - 0s 150us/step - loss: 3.1800 - acc: 0.6250\n",
      "Epoch 9/150\n",
      "768/768 [==============================] - 0s 151us/step - loss: 1.6474 - acc: 0.5456\n",
      "Epoch 10/150\n",
      "768/768 [==============================] - 0s 149us/step - loss: 1.0376 - acc: 0.5391\n",
      "Epoch 11/150\n",
      "768/768 [==============================] - 0s 119us/step - loss: 0.8048 - acc: 0.6406\n",
      "Epoch 12/150\n",
      "768/768 [==============================] - 0s 151us/step - loss: 0.8226 - acc: 0.6263\n",
      "Epoch 13/150\n",
      "768/768 [==============================] - 0s 157us/step - loss: 0.7691 - acc: 0.6484\n",
      "Epoch 14/150\n",
      "768/768 [==============================] - 0s 133us/step - loss: 0.7234 - acc: 0.6628\n",
      "Epoch 15/150\n",
      "768/768 [==============================] - 0s 149us/step - loss: 0.7326 - acc: 0.6406\n",
      "Epoch 16/150\n",
      "768/768 [==============================] - 0s 143us/step - loss: 0.7656 - acc: 0.6198\n",
      "Epoch 17/150\n",
      "768/768 [==============================] - 0s 129us/step - loss: 0.6975 - acc: 0.6432\n",
      "Epoch 18/150\n",
      "768/768 [==============================] - 0s 150us/step - loss: 0.6812 - acc: 0.6563\n",
      "Epoch 19/150\n",
      "768/768 [==============================] - 0s 130us/step - loss: 0.6812 - acc: 0.6615\n",
      "Epoch 20/150\n",
      "768/768 [==============================] - 0s 132us/step - loss: 0.6971 - acc: 0.6471\n",
      "Epoch 21/150\n",
      "768/768 [==============================] - 0s 150us/step - loss: 0.6755 - acc: 0.6536\n",
      "Epoch 22/150\n",
      "768/768 [==============================] - 0s 131us/step - loss: 0.6877 - acc: 0.6406\n",
      "Epoch 23/150\n",
      "768/768 [==============================] - 0s 163us/step - loss: 0.6962 - acc: 0.6563\n",
      "Epoch 24/150\n",
      "768/768 [==============================] - 0s 149us/step - loss: 0.6597 - acc: 0.6536\n",
      "Epoch 25/150\n",
      "768/768 [==============================] - 0s 145us/step - loss: 0.6828 - acc: 0.6628\n",
      "Epoch 26/150\n",
      "768/768 [==============================] - 0s 148us/step - loss: 0.6478 - acc: 0.6706\n",
      "Epoch 27/150\n",
      "768/768 [==============================] - 0s 143us/step - loss: 0.6753 - acc: 0.6471\n",
      "Epoch 28/150\n",
      "768/768 [==============================] - 0s 130us/step - loss: 0.6350 - acc: 0.6576\n",
      "Epoch 29/150\n",
      "768/768 [==============================] - 0s 130us/step - loss: 0.6589 - acc: 0.6406\n",
      "Epoch 30/150\n",
      "768/768 [==============================] - 0s 162us/step - loss: 0.6414 - acc: 0.6589\n",
      "Epoch 31/150\n",
      "768/768 [==============================] - 0s 152us/step - loss: 0.6388 - acc: 0.6745\n",
      "Epoch 32/150\n",
      "768/768 [==============================] - 0s 145us/step - loss: 0.6425 - acc: 0.6706\n",
      "Epoch 33/150\n",
      "768/768 [==============================] - 0s 145us/step - loss: 0.6540 - acc: 0.6589\n",
      "Epoch 34/150\n",
      "768/768 [==============================] - 0s 170us/step - loss: 0.6481 - acc: 0.6628\n",
      "Epoch 35/150\n",
      "768/768 [==============================] - 0s 154us/step - loss: 0.6480 - acc: 0.6510\n",
      "Epoch 36/150\n",
      "768/768 [==============================] - 0s 136us/step - loss: 0.6447 - acc: 0.6706\n",
      "Epoch 37/150\n",
      "768/768 [==============================] - 0s 146us/step - loss: 0.6614 - acc: 0.6484\n",
      "Epoch 38/150\n",
      "768/768 [==============================] - 0s 121us/step - loss: 0.6167 - acc: 0.6706\n",
      "Epoch 39/150\n",
      "768/768 [==============================] - 0s 166us/step - loss: 0.6456 - acc: 0.6719\n",
      "Epoch 40/150\n",
      "768/768 [==============================] - 0s 149us/step - loss: 0.6395 - acc: 0.6589\n",
      "Epoch 41/150\n",
      "768/768 [==============================] - 0s 150us/step - loss: 0.6362 - acc: 0.6719\n",
      "Epoch 42/150\n",
      "768/768 [==============================] - 0s 149us/step - loss: 0.6300 - acc: 0.6641\n",
      "Epoch 43/150\n",
      "768/768 [==============================] - 0s 145us/step - loss: 0.6303 - acc: 0.6810\n",
      "Epoch 44/150\n",
      "768/768 [==============================] - 0s 153us/step - loss: 0.6261 - acc: 0.6901\n",
      "Epoch 45/150\n",
      "768/768 [==============================] - 0s 151us/step - loss: 0.6248 - acc: 0.6719\n",
      "Epoch 46/150\n",
      "768/768 [==============================] - 0s 141us/step - loss: 0.6483 - acc: 0.6784\n",
      "Epoch 47/150\n",
      "768/768 [==============================] - 0s 125us/step - loss: 0.6501 - acc: 0.6693\n",
      "Epoch 48/150\n",
      "768/768 [==============================] - 0s 162us/step - loss: 0.6181 - acc: 0.6771\n",
      "Epoch 49/150\n",
      "768/768 [==============================] - 0s 116us/step - loss: 0.6478 - acc: 0.6706\n",
      "Epoch 50/150\n",
      "768/768 [==============================] - 0s 152us/step - loss: 0.5996 - acc: 0.6979\n",
      "Epoch 51/150\n",
      "768/768 [==============================] - 0s 151us/step - loss: 0.5892 - acc: 0.7005\n",
      "Epoch 52/150\n",
      "768/768 [==============================] - 0s 150us/step - loss: 0.6209 - acc: 0.6719\n",
      "Epoch 53/150\n",
      "768/768 [==============================] - 0s 132us/step - loss: 0.5997 - acc: 0.6992\n",
      "Epoch 54/150\n",
      "768/768 [==============================] - 0s 162us/step - loss: 0.6149 - acc: 0.6706\n",
      "Epoch 55/150\n",
      "768/768 [==============================] - 0s 119us/step - loss: 0.5939 - acc: 0.6940\n",
      "Epoch 56/150\n",
      "768/768 [==============================] - 0s 130us/step - loss: 0.6458 - acc: 0.6719\n",
      "Epoch 57/150\n",
      "768/768 [==============================] - 0s 130us/step - loss: 0.6049 - acc: 0.6693\n",
      "Epoch 58/150\n",
      "768/768 [==============================] - 0s 150us/step - loss: 0.5953 - acc: 0.6771\n",
      "Epoch 59/150\n",
      "768/768 [==============================] - 0s 131us/step - loss: 0.6038 - acc: 0.6875\n",
      "Epoch 60/150\n",
      "768/768 [==============================] - 0s 130us/step - loss: 0.6223 - acc: 0.6771\n",
      "Epoch 61/150\n",
      "768/768 [==============================] - 0s 146us/step - loss: 0.5980 - acc: 0.6810\n",
      "Epoch 62/150\n",
      "768/768 [==============================] - 0s 133us/step - loss: 0.6000 - acc: 0.6979\n",
      "Epoch 63/150\n",
      "768/768 [==============================] - 0s 124us/step - loss: 0.6072 - acc: 0.6836\n",
      "Epoch 64/150\n",
      "768/768 [==============================] - 0s 150us/step - loss: 0.6169 - acc: 0.6836\n",
      "Epoch 65/150\n",
      "768/768 [==============================] - 0s 137us/step - loss: 0.6138 - acc: 0.6953\n",
      "Epoch 66/150\n",
      "768/768 [==============================] - 0s 121us/step - loss: 0.6076 - acc: 0.6719\n",
      "Epoch 67/150\n",
      "768/768 [==============================] - 0s 130us/step - loss: 0.5884 - acc: 0.6979\n",
      "Epoch 68/150\n",
      "768/768 [==============================] - 0s 155us/step - loss: 0.6297 - acc: 0.6602\n",
      "Epoch 69/150\n",
      "768/768 [==============================] - 0s 123us/step - loss: 0.5843 - acc: 0.7083\n",
      "Epoch 70/150\n",
      "768/768 [==============================] - 0s 140us/step - loss: 0.5866 - acc: 0.6940\n",
      "Epoch 71/150\n",
      "768/768 [==============================] - 0s 133us/step - loss: 0.5981 - acc: 0.6836\n",
      "Epoch 72/150\n",
      "768/768 [==============================] - 0s 142us/step - loss: 0.5952 - acc: 0.6823\n",
      "Epoch 73/150\n",
      "768/768 [==============================] - 0s 133us/step - loss: 0.6013 - acc: 0.6771\n",
      "Epoch 74/150\n",
      "768/768 [==============================] - 0s 132us/step - loss: 0.5977 - acc: 0.6875\n",
      "Epoch 75/150\n",
      "768/768 [==============================] - 0s 131us/step - loss: 0.6055 - acc: 0.6901\n",
      "Epoch 76/150\n",
      "768/768 [==============================] - 0s 146us/step - loss: 0.5862 - acc: 0.7227\n",
      "Epoch 77/150\n",
      "768/768 [==============================] - 0s 132us/step - loss: 0.5966 - acc: 0.6914\n",
      "Epoch 78/150\n",
      "768/768 [==============================] - 0s 130us/step - loss: 0.6027 - acc: 0.6875\n",
      "Epoch 79/150\n",
      "768/768 [==============================] - 0s 139us/step - loss: 0.5780 - acc: 0.6992\n",
      "Epoch 80/150\n",
      "768/768 [==============================] - 0s 134us/step - loss: 0.6304 - acc: 0.6732\n",
      "Epoch 81/150\n",
      "768/768 [==============================] - 0s 134us/step - loss: 0.6058 - acc: 0.6888\n",
      "Epoch 82/150\n",
      "768/768 [==============================] - 0s 124us/step - loss: 0.6187 - acc: 0.6719\n",
      "Epoch 83/150\n",
      "768/768 [==============================] - 0s 136us/step - loss: 0.6069 - acc: 0.6784\n",
      "Epoch 84/150\n",
      "768/768 [==============================] - 0s 122us/step - loss: 0.5838 - acc: 0.7070\n",
      "Epoch 85/150\n",
      "768/768 [==============================] - 0s 131us/step - loss: 0.5981 - acc: 0.7070\n",
      "Epoch 86/150\n",
      "768/768 [==============================] - 0s 130us/step - loss: 0.5810 - acc: 0.7057\n",
      "Epoch 87/150\n",
      "768/768 [==============================] - 0s 129us/step - loss: 0.5832 - acc: 0.7031\n",
      "Epoch 88/150\n",
      "768/768 [==============================] - 0s 140us/step - loss: 0.5940 - acc: 0.6953\n",
      "Epoch 89/150\n",
      "768/768 [==============================] - 0s 126us/step - loss: 0.6114 - acc: 0.6862\n",
      "Epoch 90/150\n",
      "768/768 [==============================] - 0s 120us/step - loss: 0.5907 - acc: 0.6849\n",
      "Epoch 91/150\n",
      "768/768 [==============================] - 0s 132us/step - loss: 0.6047 - acc: 0.6901\n",
      "Epoch 92/150\n",
      "768/768 [==============================] - 0s 127us/step - loss: 0.6193 - acc: 0.6992\n",
      "Epoch 93/150\n",
      "768/768 [==============================] - 0s 130us/step - loss: 0.5935 - acc: 0.6979\n",
      "Epoch 94/150\n",
      "768/768 [==============================] - 0s 129us/step - loss: 0.5924 - acc: 0.7005\n",
      "Epoch 95/150\n",
      "768/768 [==============================] - 0s 131us/step - loss: 0.5859 - acc: 0.7005\n",
      "Epoch 96/150\n",
      "768/768 [==============================] - 0s 150us/step - loss: 0.5852 - acc: 0.7135\n",
      "Epoch 97/150\n",
      "768/768 [==============================] - 0s 110us/step - loss: 0.6006 - acc: 0.6901\n",
      "Epoch 98/150\n",
      "768/768 [==============================] - 0s 130us/step - loss: 0.5723 - acc: 0.7174\n",
      "Epoch 99/150\n",
      "768/768 [==============================] - 0s 143us/step - loss: 0.5761 - acc: 0.7122\n",
      "Epoch 100/150\n",
      "768/768 [==============================] - 0s 129us/step - loss: 0.5726 - acc: 0.7174\n",
      "Epoch 101/150\n",
      "768/768 [==============================] - 0s 133us/step - loss: 0.5929 - acc: 0.7018\n",
      "Epoch 102/150\n",
      "768/768 [==============================] - 0s 127us/step - loss: 0.5906 - acc: 0.7109\n",
      "Epoch 103/150\n",
      "768/768 [==============================] - 0s 132us/step - loss: 0.5796 - acc: 0.7122\n",
      "Epoch 104/150\n",
      "768/768 [==============================] - 0s 131us/step - loss: 0.5795 - acc: 0.7201\n",
      "Epoch 105/150\n",
      "768/768 [==============================] - 0s 128us/step - loss: 0.5610 - acc: 0.7240\n",
      "Epoch 106/150\n",
      "768/768 [==============================] - 0s 124us/step - loss: 0.5879 - acc: 0.7122\n",
      "Epoch 107/150\n",
      "768/768 [==============================] - 0s 127us/step - loss: 0.5690 - acc: 0.7201\n",
      "Epoch 108/150\n",
      "768/768 [==============================] - 0s 114us/step - loss: 0.5767 - acc: 0.7135\n",
      "Epoch 109/150\n",
      "768/768 [==============================] - 0s 149us/step - loss: 0.6015 - acc: 0.6797\n",
      "Epoch 110/150\n",
      "768/768 [==============================] - 0s 146us/step - loss: 0.5869 - acc: 0.7083\n",
      "Epoch 111/150\n",
      "768/768 [==============================] - 0s 113us/step - loss: 0.5860 - acc: 0.7044\n",
      "Epoch 112/150\n",
      "768/768 [==============================] - 0s 129us/step - loss: 0.5777 - acc: 0.7044\n",
      "Epoch 113/150\n",
      "768/768 [==============================] - 0s 132us/step - loss: 0.5852 - acc: 0.6914\n",
      "Epoch 114/150\n",
      "768/768 [==============================] - 0s 146us/step - loss: 0.5681 - acc: 0.7148\n",
      "Epoch 115/150\n",
      "768/768 [==============================] - 0s 113us/step - loss: 0.5951 - acc: 0.7109\n",
      "Epoch 116/150\n",
      "768/768 [==============================] - 0s 148us/step - loss: 0.5878 - acc: 0.7083\n",
      "Epoch 117/150\n",
      "768/768 [==============================] - 0s 127us/step - loss: 0.5850 - acc: 0.7148\n",
      "Epoch 118/150\n",
      "768/768 [==============================] - 0s 126us/step - loss: 0.5789 - acc: 0.6940\n",
      "Epoch 119/150\n",
      "768/768 [==============================] - 0s 137us/step - loss: 0.5804 - acc: 0.6966\n",
      "Epoch 120/150\n",
      "768/768 [==============================] - 0s 125us/step - loss: 0.5901 - acc: 0.7057\n",
      "Epoch 121/150\n",
      "768/768 [==============================] - 0s 129us/step - loss: 0.5646 - acc: 0.7096\n",
      "Epoch 122/150\n",
      "768/768 [==============================] - 0s 141us/step - loss: 0.5775 - acc: 0.7174\n",
      "Epoch 123/150\n",
      "768/768 [==============================] - 0s 117us/step - loss: 0.5820 - acc: 0.7031\n",
      "Epoch 124/150\n",
      "768/768 [==============================] - 0s 130us/step - loss: 0.5735 - acc: 0.7083\n",
      "Epoch 125/150\n",
      "768/768 [==============================] - 0s 131us/step - loss: 0.5517 - acc: 0.7344\n",
      "Epoch 126/150\n",
      "768/768 [==============================] - 0s 147us/step - loss: 0.5744 - acc: 0.7096\n",
      "Epoch 127/150\n",
      "768/768 [==============================] - 0s 129us/step - loss: 0.5747 - acc: 0.7109\n",
      "Epoch 128/150\n",
      "768/768 [==============================] - 0s 132us/step - loss: 0.5694 - acc: 0.7188\n",
      "Epoch 129/150\n",
      "768/768 [==============================] - 0s 127us/step - loss: 0.5605 - acc: 0.7266\n",
      "Epoch 130/150\n",
      "768/768 [==============================] - 0s 144us/step - loss: 0.5951 - acc: 0.6914\n",
      "Epoch 131/150\n",
      "768/768 [==============================] - 0s 132us/step - loss: 0.5685 - acc: 0.7109\n",
      "Epoch 132/150\n",
      "768/768 [==============================] - 0s 128us/step - loss: 0.5570 - acc: 0.7174\n",
      "Epoch 133/150\n",
      "768/768 [==============================] - 0s 131us/step - loss: 0.5782 - acc: 0.7122\n",
      "Epoch 134/150\n",
      "768/768 [==============================] - 0s 128us/step - loss: 0.5627 - acc: 0.7135\n",
      "Epoch 135/150\n",
      "768/768 [==============================] - 0s 127us/step - loss: 0.5713 - acc: 0.7240\n",
      "Epoch 136/150\n",
      "768/768 [==============================] - 0s 143us/step - loss: 0.5557 - acc: 0.7096\n",
      "Epoch 137/150\n",
      "768/768 [==============================] - 0s 129us/step - loss: 0.5508 - acc: 0.7240\n",
      "Epoch 138/150\n",
      "768/768 [==============================] - 0s 131us/step - loss: 0.5883 - acc: 0.7044\n",
      "Epoch 139/150\n",
      "768/768 [==============================] - 0s 140us/step - loss: 0.5649 - acc: 0.7135\n",
      "Epoch 140/150\n",
      "768/768 [==============================] - 0s 124us/step - loss: 0.5759 - acc: 0.7005\n",
      "Epoch 141/150\n",
      "768/768 [==============================] - 0s 154us/step - loss: 0.5676 - acc: 0.7109\n",
      "Epoch 142/150\n",
      "768/768 [==============================] - 0s 123us/step - loss: 0.5671 - acc: 0.7122\n",
      "Epoch 143/150\n",
      "768/768 [==============================] - 0s 130us/step - loss: 0.5601 - acc: 0.7214\n",
      "Epoch 144/150\n",
      "768/768 [==============================] - 0s 131us/step - loss: 0.5699 - acc: 0.7018\n",
      "Epoch 145/150\n",
      "768/768 [==============================] - 0s 152us/step - loss: 0.5608 - acc: 0.7187\n",
      "Epoch 146/150\n",
      "768/768 [==============================] - 0s 127us/step - loss: 0.5799 - acc: 0.6966\n",
      "Epoch 147/150\n",
      "768/768 [==============================] - 0s 130us/step - loss: 0.5549 - acc: 0.7148\n",
      "Epoch 148/150\n",
      "768/768 [==============================] - 0s 144us/step - loss: 0.5742 - acc: 0.7005\n",
      "Epoch 149/150\n",
      "768/768 [==============================] - 0s 132us/step - loss: 0.5599 - acc: 0.7227\n",
      "Epoch 150/150\n",
      "768/768 [==============================] - 0s 127us/step - loss: 0.5663 - acc: 0.7148\n"
     ]
    },
    {
     "data": {
      "text/plain": [
       "<keras.callbacks.History at 0x1d21dc14b38>"
      ]
     },
     "execution_count": 7,
     "metadata": {},
     "output_type": "execute_result"
    }
   ],
   "source": [
    "# Fit the model\n",
    "model2.fit(X, Y, epochs=150, batch_size=10)"
   ]
  },
  {
   "cell_type": "markdown",
   "metadata": {},
   "source": [
    "### Evaluate Model"
   ]
  },
  {
   "cell_type": "code",
   "execution_count": 10,
   "metadata": {},
   "outputs": [
    {
     "name": "stdout",
     "output_type": "stream",
     "text": [
      "768/768 [==============================] - 0s 40us/step\n",
      "\n",
      "acc: 75.78%\n"
     ]
    }
   ],
   "source": [
    "# evaluate the model\n",
    "scores = model2.evaluate(X, Y)\n",
    "print(\"\\n%s: %.2f%%\" % (model2.metrics_names[1], scores[1]*100))"
   ]
  },
  {
   "cell_type": "markdown",
   "metadata": {},
   "source": [
    "### Make Predictions"
   ]
  },
  {
   "cell_type": "code",
   "execution_count": null,
   "metadata": {},
   "outputs": [],
   "source": [
    "# calculate predictions\n",
    "predictions = model1.predict(X)\n",
    "# round predictions\n",
    "rounded = [round(x[0]) for x in predictions]\n",
    "print(rounded[:10])"
   ]
  },
  {
   "cell_type": "markdown",
   "metadata": {},
   "source": [
    "### Saving a model along with its weights"
   ]
  },
  {
   "cell_type": "code",
   "execution_count": 11,
   "metadata": {},
   "outputs": [],
   "source": [
    "# Save the weights\n",
    "model2.save_weights('model_weights.h5')\n",
    "\n",
    "# Save the model architecture\n",
    "with open('model_architecture.json', 'w') as f:\n",
    "    f.write(model2.to_json())"
   ]
  },
  {
   "cell_type": "code",
   "execution_count": 12,
   "metadata": {},
   "outputs": [],
   "source": [
    "from keras.models import model_from_json\n",
    "\n",
    "# Model reconstruction from JSON file\n",
    "with open('model_architecture.json', 'r') as f:\n",
    "    model = model_from_json(f.read())\n",
    "\n",
    "# Load weights into the new model\n",
    "model.load_weights('model_weights.h5')"
   ]
  },
  {
   "cell_type": "code",
   "execution_count": 14,
   "metadata": {},
   "outputs": [],
   "source": [
    "#Using the model\n",
    "# Compile model\n",
    "model.compile(loss='binary_crossentropy', optimizer='adam', metrics=['accuracy'])"
   ]
  },
  {
   "cell_type": "code",
   "execution_count": 15,
   "metadata": {},
   "outputs": [
    {
     "name": "stdout",
     "output_type": "stream",
     "text": [
      "768/768 [==============================] - 0s 137us/step\n",
      "\n",
      "acc: 75.78%\n"
     ]
    }
   ],
   "source": [
    "# evaluate the model\n",
    "scores = model.evaluate(X, Y)\n",
    "print(\"\\n%s: %.2f%%\" % (model.metrics_names[1], scores[1]*100))"
   ]
  },
  {
   "cell_type": "markdown",
   "metadata": {},
   "source": [
    "### saving and loading the entire model"
   ]
  },
  {
   "cell_type": "code",
   "execution_count": 16,
   "metadata": {},
   "outputs": [],
   "source": [
    "from keras.models import load_model\n",
    "\n",
    "# Creates a HDF5 file 'my_model.h5'\n",
    "model2.save('my_model.h5')\n",
    "\n",
    "# Deletes the existing model\n",
    "#del model  \n",
    "\n",
    "# Returns a compiled model identical to the previous one\n",
    "model = load_model('my_model.h5')"
   ]
  },
  {
   "cell_type": "code",
   "execution_count": 18,
   "metadata": {},
   "outputs": [
    {
     "name": "stdout",
     "output_type": "stream",
     "text": [
      "768/768 [==============================] - 0s 197us/step\n",
      "\n",
      "acc: 75.78%\n"
     ]
    }
   ],
   "source": [
    "# evaluate the model\n",
    "scores = model.evaluate(X, Y)\n",
    "print(\"\\n%s: %.2f%%\" % (model.metrics_names[1], scores[1]*100))"
   ]
  }
 ],
 "metadata": {
  "kernelspec": {
   "display_name": "Python [conda env:tensorflow]",
   "language": "python",
   "name": "conda-env-tensorflow-py"
  },
  "language_info": {
   "codemirror_mode": {
    "name": "ipython",
    "version": 3
   },
   "file_extension": ".py",
   "mimetype": "text/x-python",
   "name": "python",
   "nbconvert_exporter": "python",
   "pygments_lexer": "ipython3",
   "version": "3.6.4"
  }
 },
 "nbformat": 4,
 "nbformat_minor": 2
}
