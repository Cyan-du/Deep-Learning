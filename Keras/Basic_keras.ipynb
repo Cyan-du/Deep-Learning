{
 "cells": [
  {
   "cell_type": "markdown",
   "metadata": {},
   "source": [
    "# Neural Network using Keras"
   ]
  },
  {
   "cell_type": "markdown",
   "metadata": {},
   "source": [
    "### Importing necessary modules"
   ]
  },
  {
   "cell_type": "code",
   "execution_count": 3,
   "metadata": {},
   "outputs": [],
   "source": [
    "from keras.models import Sequential\n",
    "from keras.layers import Dense\n",
    "import numpy\n",
    "# fix random seed for reproducibility\n",
    "numpy.random.seed(7)"
   ]
  },
  {
   "cell_type": "markdown",
   "metadata": {},
   "source": [
    "### Loading the data"
   ]
  },
  {
   "cell_type": "code",
   "execution_count": 4,
   "metadata": {},
   "outputs": [],
   "source": [
    "# load pima indians dataset\n",
    "dataset = numpy.loadtxt(\"pima-indians-diabetes.csv\", delimiter=\",\")\n",
    "# split into input (X) and output (Y) variables\n",
    "X = dataset[:,0:8]\n",
    "Y = dataset[:,8]"
   ]
  },
  {
   "cell_type": "code",
   "execution_count": 5,
   "metadata": {},
   "outputs": [
    {
     "data": {
      "text/plain": [
       "array([[  6.   , 148.   ,  72.   , ...,  33.6  ,   0.627,  50.   ],\n",
       "       [  1.   ,  85.   ,  66.   , ...,  26.6  ,   0.351,  31.   ],\n",
       "       [  8.   , 183.   ,  64.   , ...,  23.3  ,   0.672,  32.   ],\n",
       "       ...,\n",
       "       [  5.   , 121.   ,  72.   , ...,  26.2  ,   0.245,  30.   ],\n",
       "       [  1.   , 126.   ,  60.   , ...,  30.1  ,   0.349,  47.   ],\n",
       "       [  1.   ,  93.   ,  70.   , ...,  30.4  ,   0.315,  23.   ]])"
      ]
     },
     "execution_count": 5,
     "metadata": {},
     "output_type": "execute_result"
    }
   ],
   "source": [
    "X"
   ]
  },
  {
   "cell_type": "markdown",
   "metadata": {},
   "source": [
    "### Define Model"
   ]
  },
  {
   "cell_type": "markdown",
   "metadata": {},
   "source": [
    "Models in Keras are defined as a sequence of layers.\n",
    "\n",
    "We create a Sequential model and add layers one at a time until we are happy with our network topology.\n",
    "\n",
    "The first thing to get right is to ensure the input layer has the right number of inputs. This can be specified when creating the first layer with the input_dim argument and setting it to 8 for the 8 input variables.\n",
    "\n",
    "How do we know the number of layers and their types?\n",
    "\n",
    "This is a very hard question. There are heuristics that we can use and often the best network structure is found through a process of trial and error experimentation. Generally, you need a network large enough to capture the structure of the problem if that helps at all.\n",
    "\n",
    "In this example, we will use a fully-connected network structure with three layers.\n",
    "\n",
    "Fully connected layers are defined using the Dense class. We can specify the number of neurons in the layer as the first argument, the initialization method as the second argument as init and specify the activation function using the activation argument.\n",
    "\n",
    "In this case, we initialize the network weights to a small random number generated from a uniform distribution (‘uniform‘), in this case between 0 and 0.05 because that is the default uniform weight initialization in Keras. Another traditional alternative would be ‘normal’ for small random numbers generated from a Gaussian distribution.\n",
    "\n",
    "We will use the rectifier (‘relu‘) activation function on the first two layers and the sigmoid function in the output layer. It used to be the case that sigmoid and tanh activation functions were preferred for all layers. These days, better performance is achieved using the rectifier activation function. We use a sigmoid on the output layer to ensure our network output is between 0 and 1 and easy to map to either a probability of class 1 or snap to a hard classification of either class with a default threshold of 0.5.\n",
    "\n",
    "We can piece it all together by adding each layer. The first layer has 12 neurons and expects 8 input variables. The second hidden layer has 8 neurons and finally, the output layer has 1 neuron to predict the class (onset of diabetes or not)."
   ]
  },
  {
   "cell_type": "code",
   "execution_count": 11,
   "metadata": {},
   "outputs": [],
   "source": [
    "# create model\n",
    "model = Sequential()\n",
    "model.add(Dense(12, input_dim=8, activation='relu'))\n",
    "model.add(Dense(8, activation='relu'))\n",
    "model.add(Dense(1, activation='sigmoid'))"
   ]
  },
  {
   "cell_type": "markdown",
   "metadata": {},
   "source": [
    "### Compile Model"
   ]
  },
  {
   "cell_type": "markdown",
   "metadata": {},
   "source": [
    "Now that the model is defined, we can compile it.\n",
    "\n",
    "Compiling the model uses the efficient numerical libraries under the covers (the so-called backend) such as Theano or TensorFlow. The backend automatically chooses the best way to represent the network for training and making predictions to run on your hardware, such as CPU or GPU or even distributed.\n",
    "\n",
    "When compiling, we must specify some additional properties required when training the network. Remember training a network means finding the best set of weights to make predictions for this problem.\n",
    "\n",
    "We must specify the loss function to use to evaluate a set of weights, the optimizer used to search through different weights for the network and any optional metrics we would like to collect and report during training.\n",
    "\n",
    "In this case, we will use logarithmic loss, which for a binary classification problem is defined in Keras as “binary_crossentropy“. We will also use the efficient gradient descent algorithm “adam” for no other reason that it is an efficient default. Learn more about the Adam optimization algorithm in the paper “Adam: A Method for Stochastic Optimization“.\n",
    "\n",
    "Finally, because it is a classification problem, we will collect and report the classification accuracy as the metric."
   ]
  },
  {
   "cell_type": "code",
   "execution_count": 12,
   "metadata": {},
   "outputs": [],
   "source": [
    "# Compile model\n",
    "model.compile(loss='binary_crossentropy', optimizer='adam', metrics=['accuracy'])"
   ]
  },
  {
   "cell_type": "markdown",
   "metadata": {},
   "source": [
    "### Fit Model"
   ]
  },
  {
   "cell_type": "markdown",
   "metadata": {},
   "source": [
    "We have defined our model and compiled it ready for efficient computation.\n",
    "\n",
    "Now it is time to execute the model on some data.\n",
    "\n",
    "We can train or fit our model on our loaded data by calling the fit() function on the model.\n",
    "\n",
    "The training process will run for a fixed number of iterations through the dataset called epochs, that we must specify using the nepochs argument. We can also set the number of instances that are evaluated before a weight update in the network is performed, called the batch size and set using the batch_size argument.\n",
    "\n",
    "For this problem, we will run for a small number of iterations (150) and use a relatively small batch size of 10. Again, these can be chosen experimentally by trial and error."
   ]
  },
  {
   "cell_type": "code",
   "execution_count": 13,
   "metadata": {},
   "outputs": [
    {
     "name": "stdout",
     "output_type": "stream",
     "text": [
      "Epoch 1/150\n",
      "768/768 [==============================] - 1s 1ms/step - loss: 3.7091 - acc: 0.5977\n",
      "Epoch 2/150\n",
      "768/768 [==============================] - 0s 130us/step - loss: 0.9372 - acc: 0.5924\n",
      "Epoch 3/150\n",
      "768/768 [==============================] - 0s 130us/step - loss: 0.7478 - acc: 0.6432\n",
      "Epoch 4/150\n",
      "768/768 [==============================] - 0s 137us/step - loss: 0.7120 - acc: 0.6549\n",
      "Epoch 5/150\n",
      "768/768 [==============================] - 0s 137us/step - loss: 0.6841 - acc: 0.6667\n",
      "Epoch 6/150\n",
      "768/768 [==============================] - 0s 133us/step - loss: 0.6523 - acc: 0.6784\n",
      "Epoch 7/150\n",
      "768/768 [==============================] - 0s 129us/step - loss: 0.6506 - acc: 0.6810\n",
      "Epoch 8/150\n",
      "768/768 [==============================] - 0s 168us/step - loss: 0.6387 - acc: 0.6849\n",
      "Epoch 9/150\n",
      "768/768 [==============================] - 0s 146us/step - loss: 0.6250 - acc: 0.6966\n",
      "Epoch 10/150\n",
      "768/768 [==============================] - 0s 145us/step - loss: 0.6314 - acc: 0.6771\n",
      "Epoch 11/150\n",
      "768/768 [==============================] - 0s 139us/step - loss: 0.6503 - acc: 0.6719\n",
      "Epoch 12/150\n",
      "768/768 [==============================] - 0s 161us/step - loss: 0.6405 - acc: 0.6719\n",
      "Epoch 13/150\n",
      "768/768 [==============================] - 0s 138us/step - loss: 0.6265 - acc: 0.6732\n",
      "Epoch 14/150\n",
      "768/768 [==============================] - 0s 187us/step - loss: 0.6185 - acc: 0.6979\n",
      "Epoch 15/150\n",
      "768/768 [==============================] - 0s 242us/step - loss: 0.6022 - acc: 0.6940\n",
      "Epoch 16/150\n",
      "768/768 [==============================] - 0s 164us/step - loss: 0.5885 - acc: 0.7018\n",
      "Epoch 17/150\n",
      "768/768 [==============================] - 0s 152us/step - loss: 0.5854 - acc: 0.7018\n",
      "Epoch 18/150\n",
      "768/768 [==============================] - 0s 146us/step - loss: 0.6005 - acc: 0.6875\n",
      "Epoch 19/150\n",
      "768/768 [==============================] - 0s 214us/step - loss: 0.5806 - acc: 0.7083\n",
      "Epoch 20/150\n",
      "768/768 [==============================] - 0s 176us/step - loss: 0.5802 - acc: 0.7188\n",
      "Epoch 21/150\n",
      "768/768 [==============================] - 0s 126us/step - loss: 0.5687 - acc: 0.7174\n",
      "Epoch 22/150\n",
      "768/768 [==============================] - 0s 169us/step - loss: 0.5816 - acc: 0.6966\n",
      "Epoch 23/150\n",
      "768/768 [==============================] - 0s 192us/step - loss: 0.5741 - acc: 0.7109\n",
      "Epoch 24/150\n",
      "768/768 [==============================] - 0s 187us/step - loss: 0.5681 - acc: 0.7292\n",
      "Epoch 25/150\n",
      "768/768 [==============================] - 0s 155us/step - loss: 0.5580 - acc: 0.7383\n",
      "Epoch 26/150\n",
      "768/768 [==============================] - 0s 151us/step - loss: 0.5704 - acc: 0.7070\n",
      "Epoch 27/150\n",
      "768/768 [==============================] - 0s 218us/step - loss: 0.5555 - acc: 0.7201\n",
      "Epoch 28/150\n",
      "768/768 [==============================] - 0s 166us/step - loss: 0.5553 - acc: 0.7292\n",
      "Epoch 29/150\n",
      "768/768 [==============================] - ETA: 0s - loss: 0.4899 - acc: 0.759 - 0s 127us/step - loss: 0.5737 - acc: 0.7148\n",
      "Epoch 30/150\n",
      "768/768 [==============================] - 0s 177us/step - loss: 0.5610 - acc: 0.7227\n",
      "Epoch 31/150\n",
      "768/768 [==============================] - 0s 145us/step - loss: 0.5690 - acc: 0.7135\n",
      "Epoch 32/150\n",
      "768/768 [==============================] - 0s 170us/step - loss: 0.5642 - acc: 0.7122\n",
      "Epoch 33/150\n",
      "768/768 [==============================] - 0s 188us/step - loss: 0.5515 - acc: 0.7253\n",
      "Epoch 34/150\n",
      "768/768 [==============================] - 0s 217us/step - loss: 0.5477 - acc: 0.7305\n",
      "Epoch 35/150\n",
      "768/768 [==============================] - 0s 209us/step - loss: 0.5512 - acc: 0.7096\n",
      "Epoch 36/150\n",
      "768/768 [==============================] - 0s 161us/step - loss: 0.5655 - acc: 0.7057\n",
      "Epoch 37/150\n",
      "768/768 [==============================] - 0s 158us/step - loss: 0.5334 - acc: 0.7396\n",
      "Epoch 38/150\n",
      "768/768 [==============================] - 0s 130us/step - loss: 0.5404 - acc: 0.7266\n",
      "Epoch 39/150\n",
      "768/768 [==============================] - 0s 190us/step - loss: 0.5465 - acc: 0.7266\n",
      "Epoch 40/150\n",
      "768/768 [==============================] - 0s 208us/step - loss: 0.5450 - acc: 0.7214\n",
      "Epoch 41/150\n",
      "768/768 [==============================] - 0s 150us/step - loss: 0.5436 - acc: 0.7318\n",
      "Epoch 42/150\n",
      "768/768 [==============================] - 0s 156us/step - loss: 0.5386 - acc: 0.7409\n",
      "Epoch 43/150\n",
      "768/768 [==============================] - 0s 180us/step - loss: 0.5314 - acc: 0.7526\n",
      "Epoch 44/150\n",
      "768/768 [==============================] - 0s 236us/step - loss: 0.5330 - acc: 0.7435\n",
      "Epoch 45/150\n",
      "768/768 [==============================] - 0s 205us/step - loss: 0.5314 - acc: 0.7513\n",
      "Epoch 46/150\n",
      "768/768 [==============================] - 0s 129us/step - loss: 0.5292 - acc: 0.7500\n",
      "Epoch 47/150\n",
      "768/768 [==============================] - 0s 168us/step - loss: 0.5309 - acc: 0.7383\n",
      "Epoch 48/150\n",
      "768/768 [==============================] - 0s 133us/step - loss: 0.5316 - acc: 0.7422\n",
      "Epoch 49/150\n",
      "768/768 [==============================] - 0s 214us/step - loss: 0.5329 - acc: 0.7461\n",
      "Epoch 50/150\n",
      "768/768 [==============================] - 0s 200us/step - loss: 0.5265 - acc: 0.7344\n",
      "Epoch 51/150\n",
      "768/768 [==============================] - 0s 146us/step - loss: 0.5282 - acc: 0.7474\n",
      "Epoch 52/150\n",
      "768/768 [==============================] - 0s 128us/step - loss: 0.5289 - acc: 0.7448\n",
      "Epoch 53/150\n",
      "768/768 [==============================] - 0s 130us/step - loss: 0.5375 - acc: 0.7422\n",
      "Epoch 54/150\n",
      "768/768 [==============================] - 0s 192us/step - loss: 0.5360 - acc: 0.7331\n",
      "Epoch 55/150\n",
      "768/768 [==============================] - 0s 149us/step - loss: 0.5226 - acc: 0.7474\n",
      "Epoch 56/150\n",
      "768/768 [==============================] - 0s 141us/step - loss: 0.5285 - acc: 0.7409\n",
      "Epoch 57/150\n",
      "768/768 [==============================] - 0s 142us/step - loss: 0.5312 - acc: 0.7357\n",
      "Epoch 58/150\n",
      "768/768 [==============================] - 0s 145us/step - loss: 0.5222 - acc: 0.7552\n",
      "Epoch 59/150\n",
      "768/768 [==============================] - 0s 126us/step - loss: 0.5118 - acc: 0.7643\n",
      "Epoch 60/150\n",
      "768/768 [==============================] - 0s 160us/step - loss: 0.5334 - acc: 0.7383\n",
      "Epoch 61/150\n",
      "768/768 [==============================] - 0s 150us/step - loss: 0.5254 - acc: 0.7422\n",
      "Epoch 62/150\n",
      "768/768 [==============================] - 0s 142us/step - loss: 0.5158 - acc: 0.7539\n",
      "Epoch 63/150\n",
      "768/768 [==============================] - 0s 155us/step - loss: 0.5439 - acc: 0.7318\n",
      "Epoch 64/150\n",
      "768/768 [==============================] - 0s 168us/step - loss: 0.5299 - acc: 0.7435\n",
      "Epoch 65/150\n",
      "768/768 [==============================] - 0s 183us/step - loss: 0.5233 - acc: 0.7435\n",
      "Epoch 66/150\n",
      "768/768 [==============================] - 0s 155us/step - loss: 0.5068 - acc: 0.7513\n",
      "Epoch 67/150\n",
      "768/768 [==============================] - 0s 149us/step - loss: 0.5153 - acc: 0.7422\n",
      "Epoch 68/150\n",
      "768/768 [==============================] - 0s 164us/step - loss: 0.5134 - acc: 0.7578\n",
      "Epoch 69/150\n",
      "768/768 [==============================] - 0s 183us/step - loss: 0.5132 - acc: 0.7539\n",
      "Epoch 70/150\n",
      "768/768 [==============================] - 0s 157us/step - loss: 0.5367 - acc: 0.7214\n",
      "Epoch 71/150\n",
      "768/768 [==============================] - 0s 166us/step - loss: 0.5171 - acc: 0.7422\n",
      "Epoch 72/150\n",
      "768/768 [==============================] - 0s 187us/step - loss: 0.5160 - acc: 0.7500\n",
      "Epoch 73/150\n",
      "768/768 [==============================] - 0s 183us/step - loss: 0.5158 - acc: 0.7474\n",
      "Epoch 74/150\n",
      "768/768 [==============================] - 0s 155us/step - loss: 0.5098 - acc: 0.7617\n",
      "Epoch 75/150\n",
      "768/768 [==============================] - 0s 184us/step - loss: 0.5090 - acc: 0.7604\n",
      "Epoch 76/150\n",
      "768/768 [==============================] - 0s 155us/step - loss: 0.5112 - acc: 0.7565\n",
      "Epoch 77/150\n",
      "768/768 [==============================] - 0s 148us/step - loss: 0.5155 - acc: 0.7643\n",
      "Epoch 78/150\n",
      "768/768 [==============================] - 0s 168us/step - loss: 0.5116 - acc: 0.7487\n",
      "Epoch 79/150\n",
      "768/768 [==============================] - 0s 178us/step - loss: 0.5129 - acc: 0.7435\n",
      "Epoch 80/150\n",
      "768/768 [==============================] - 0s 147us/step - loss: 0.5118 - acc: 0.7578\n",
      "Epoch 81/150\n",
      "768/768 [==============================] - 0s 161us/step - loss: 0.5054 - acc: 0.7669\n",
      "Epoch 82/150\n",
      "768/768 [==============================] - 0s 164us/step - loss: 0.5024 - acc: 0.7526\n",
      "Epoch 83/150\n"
     ]
    },
    {
     "name": "stdout",
     "output_type": "stream",
     "text": [
      "768/768 [==============================] - 0s 172us/step - loss: 0.4978 - acc: 0.7617\n",
      "Epoch 84/150\n",
      "768/768 [==============================] - 0s 129us/step - loss: 0.4975 - acc: 0.7630\n",
      "Epoch 85/150\n",
      "768/768 [==============================] - 0s 167us/step - loss: 0.5059 - acc: 0.7461\n",
      "Epoch 86/150\n",
      "768/768 [==============================] - 0s 175us/step - loss: 0.5052 - acc: 0.7461\n",
      "Epoch 87/150\n",
      "768/768 [==============================] - 0s 134us/step - loss: 0.4990 - acc: 0.7565\n",
      "Epoch 88/150\n",
      "768/768 [==============================] - 0s 145us/step - loss: 0.5018 - acc: 0.7669\n",
      "Epoch 89/150\n",
      "768/768 [==============================] - 0s 179us/step - loss: 0.5051 - acc: 0.7669\n",
      "Epoch 90/150\n",
      "768/768 [==============================] - 0s 174us/step - loss: 0.5088 - acc: 0.7526\n",
      "Epoch 91/150\n",
      "768/768 [==============================] - 0s 153us/step - loss: 0.5030 - acc: 0.7552\n",
      "Epoch 92/150\n",
      "768/768 [==============================] - 0s 148us/step - loss: 0.5040 - acc: 0.7448\n",
      "Epoch 93/150\n",
      "768/768 [==============================] - 0s 156us/step - loss: 0.4976 - acc: 0.7708\n",
      "Epoch 94/150\n",
      "768/768 [==============================] - 0s 126us/step - loss: 0.4989 - acc: 0.7708\n",
      "Epoch 95/150\n",
      "768/768 [==============================] - 0s 153us/step - loss: 0.5034 - acc: 0.7500\n",
      "Epoch 96/150\n",
      "768/768 [==============================] - 0s 182us/step - loss: 0.4912 - acc: 0.7669\n",
      "Epoch 97/150\n",
      "768/768 [==============================] - 0s 185us/step - loss: 0.4971 - acc: 0.7773\n",
      "Epoch 98/150\n",
      "768/768 [==============================] - 0s 144us/step - loss: 0.4893 - acc: 0.7682\n",
      "Epoch 99/150\n",
      "768/768 [==============================] - 0s 128us/step - loss: 0.4898 - acc: 0.7708\n",
      "Epoch 100/150\n",
      "768/768 [==============================] - 0s 166us/step - loss: 0.4841 - acc: 0.7773\n",
      "Epoch 101/150\n",
      "768/768 [==============================] - 0s 191us/step - loss: 0.4885 - acc: 0.7760\n",
      "Epoch 102/150\n",
      "768/768 [==============================] - 0s 183us/step - loss: 0.4990 - acc: 0.7565\n",
      "Epoch 103/150\n",
      "768/768 [==============================] - 0s 162us/step - loss: 0.4992 - acc: 0.7578\n",
      "Epoch 104/150\n",
      "768/768 [==============================] - 0s 170us/step - loss: 0.4912 - acc: 0.7812\n",
      "Epoch 105/150\n",
      "768/768 [==============================] - 0s 189us/step - loss: 0.5306 - acc: 0.7474\n",
      "Epoch 106/150\n",
      "768/768 [==============================] - 0s 146us/step - loss: 0.4911 - acc: 0.7760\n",
      "Epoch 107/150\n",
      "768/768 [==============================] - 0s 159us/step - loss: 0.4895 - acc: 0.7708\n",
      "Epoch 108/150\n",
      "768/768 [==============================] - 0s 193us/step - loss: 0.5007 - acc: 0.7695\n",
      "Epoch 109/150\n",
      "768/768 [==============================] - 0s 172us/step - loss: 0.4856 - acc: 0.7669\n",
      "Epoch 110/150\n",
      "768/768 [==============================] - 0s 172us/step - loss: 0.4903 - acc: 0.7682\n",
      "Epoch 111/150\n",
      "768/768 [==============================] - 0s 176us/step - loss: 0.4856 - acc: 0.7760 0s - loss: 0.4732 - acc: 0.786\n",
      "Epoch 112/150\n",
      "768/768 [==============================] - 0s 168us/step - loss: 0.4899 - acc: 0.7682\n",
      "Epoch 113/150\n",
      "768/768 [==============================] - 0s 141us/step - loss: 0.4960 - acc: 0.7591\n",
      "Epoch 114/150\n",
      "768/768 [==============================] - 0s 168us/step - loss: 0.4907 - acc: 0.7630\n",
      "Epoch 115/150\n",
      "768/768 [==============================] - 0s 187us/step - loss: 0.4940 - acc: 0.7747 0s - loss: 0.4967 - acc: 0.766\n",
      "Epoch 116/150\n",
      "768/768 [==============================] - 0s 172us/step - loss: 0.4969 - acc: 0.7721\n",
      "Epoch 117/150\n",
      "768/768 [==============================] - 0s 210us/step - loss: 0.4905 - acc: 0.7604\n",
      "Epoch 118/150\n",
      "768/768 [==============================] - 0s 122us/step - loss: 0.4887 - acc: 0.7812\n",
      "Epoch 119/150\n",
      "768/768 [==============================] - 0s 150us/step - loss: 0.4830 - acc: 0.7669\n",
      "Epoch 120/150\n",
      "768/768 [==============================] - 0s 226us/step - loss: 0.4936 - acc: 0.7760\n",
      "Epoch 121/150\n",
      "768/768 [==============================] - 0s 168us/step - loss: 0.4939 - acc: 0.7786\n",
      "Epoch 122/150\n",
      "768/768 [==============================] - 0s 159us/step - loss: 0.4844 - acc: 0.7786 0s - loss: 0.4779 - acc: 0.781\n",
      "Epoch 123/150\n",
      "768/768 [==============================] - 0s 131us/step - loss: 0.4809 - acc: 0.7682\n",
      "Epoch 124/150\n",
      "768/768 [==============================] - 0s 161us/step - loss: 0.4837 - acc: 0.7747\n",
      "Epoch 125/150\n",
      "768/768 [==============================] - 0s 197us/step - loss: 0.4877 - acc: 0.7865\n",
      "Epoch 126/150\n",
      "768/768 [==============================] - 0s 167us/step - loss: 0.4802 - acc: 0.7786\n",
      "Epoch 127/150\n",
      "768/768 [==============================] - 0s 162us/step - loss: 0.4906 - acc: 0.7695\n",
      "Epoch 128/150\n",
      "768/768 [==============================] - 0s 127us/step - loss: 0.4726 - acc: 0.7760\n",
      "Epoch 129/150\n",
      "768/768 [==============================] - 0s 153us/step - loss: 0.4818 - acc: 0.7734\n",
      "Epoch 130/150\n",
      "768/768 [==============================] - 0s 130us/step - loss: 0.4749 - acc: 0.7878\n",
      "Epoch 131/150\n",
      "768/768 [==============================] - 0s 141us/step - loss: 0.4831 - acc: 0.7669\n",
      "Epoch 132/150\n",
      "768/768 [==============================] - 0s 141us/step - loss: 0.4837 - acc: 0.7799\n",
      "Epoch 133/150\n",
      "768/768 [==============================] - 0s 140us/step - loss: 0.4827 - acc: 0.7669\n",
      "Epoch 134/150\n",
      "768/768 [==============================] - 0s 146us/step - loss: 0.4851 - acc: 0.7734\n",
      "Epoch 135/150\n",
      "768/768 [==============================] - 0s 142us/step - loss: 0.4790 - acc: 0.7786\n",
      "Epoch 136/150\n",
      "768/768 [==============================] - 0s 128us/step - loss: 0.4739 - acc: 0.7773\n",
      "Epoch 137/150\n",
      "768/768 [==============================] - 0s 142us/step - loss: 0.4687 - acc: 0.7799\n",
      "Epoch 138/150\n",
      "768/768 [==============================] - 0s 136us/step - loss: 0.4807 - acc: 0.7812\n",
      "Epoch 139/150\n",
      "768/768 [==============================] - 0s 131us/step - loss: 0.4657 - acc: 0.7930\n",
      "Epoch 140/150\n",
      "768/768 [==============================] - 0s 142us/step - loss: 0.4843 - acc: 0.7812\n",
      "Epoch 141/150\n",
      "768/768 [==============================] - 0s 126us/step - loss: 0.4733 - acc: 0.7839\n",
      "Epoch 142/150\n",
      "768/768 [==============================] - 0s 163us/step - loss: 0.4814 - acc: 0.7760\n",
      "Epoch 143/150\n",
      "768/768 [==============================] - 0s 150us/step - loss: 0.4755 - acc: 0.7734\n",
      "Epoch 144/150\n",
      "768/768 [==============================] - ETA: 0s - loss: 0.4758 - acc: 0.776 - 0s 145us/step - loss: 0.4773 - acc: 0.7734\n",
      "Epoch 145/150\n",
      "768/768 [==============================] - 0s 144us/step - loss: 0.4909 - acc: 0.7617\n",
      "Epoch 146/150\n",
      "768/768 [==============================] - 0s 138us/step - loss: 0.4933 - acc: 0.7695\n",
      "Epoch 147/150\n",
      "768/768 [==============================] - 0s 144us/step - loss: 0.4842 - acc: 0.7786\n",
      "Epoch 148/150\n",
      "768/768 [==============================] - 0s 150us/step - loss: 0.4707 - acc: 0.7721\n",
      "Epoch 149/150\n",
      "768/768 [==============================] - 0s 144us/step - loss: 0.4755 - acc: 0.7682\n",
      "Epoch 150/150\n",
      "768/768 [==============================] - 0s 141us/step - loss: 0.4781 - acc: 0.7708\n"
     ]
    },
    {
     "data": {
      "text/plain": [
       "<keras.callbacks.History at 0x19797fdd898>"
      ]
     },
     "execution_count": 13,
     "metadata": {},
     "output_type": "execute_result"
    }
   ],
   "source": [
    "# Fit the model\n",
    "model.fit(X, Y, epochs=150, batch_size=10)"
   ]
  },
  {
   "cell_type": "markdown",
   "metadata": {},
   "source": [
    "### Evaluate Model"
   ]
  },
  {
   "cell_type": "code",
   "execution_count": 14,
   "metadata": {},
   "outputs": [
    {
     "name": "stdout",
     "output_type": "stream",
     "text": [
      "768/768 [==============================] - 0s 63us/step\n",
      "\n",
      "acc: 79.69%\n"
     ]
    }
   ],
   "source": [
    "# evaluate the model\n",
    "scores = model.evaluate(X, Y)\n",
    "print(\"\\n%s: %.2f%%\" % (model.metrics_names[1], scores[1]*100))"
   ]
  },
  {
   "cell_type": "markdown",
   "metadata": {},
   "source": [
    "### Make Predictions"
   ]
  },
  {
   "cell_type": "code",
   "execution_count": 16,
   "metadata": {},
   "outputs": [
    {
     "name": "stdout",
     "output_type": "stream",
     "text": [
      "[1.0, 0.0, 1.0, 0.0, 1.0, 0.0, 0.0, 0.0, 1.0, 0.0]\n"
     ]
    }
   ],
   "source": [
    "# calculate predictions\n",
    "predictions = model.predict(X)\n",
    "# round predictions\n",
    "rounded = [round(x[0]) for x in predictions]\n",
    "print(rounded[:10])"
   ]
  }
 ],
 "metadata": {
  "kernelspec": {
   "display_name": "Python [conda env:tensorflow]",
   "language": "python",
   "name": "conda-env-tensorflow-py"
  },
  "language_info": {
   "codemirror_mode": {
    "name": "ipython",
    "version": 3
   },
   "file_extension": ".py",
   "mimetype": "text/x-python",
   "name": "python",
   "nbconvert_exporter": "python",
   "pygments_lexer": "ipython3",
   "version": "3.6.4"
  }
 },
 "nbformat": 4,
 "nbformat_minor": 2
}
